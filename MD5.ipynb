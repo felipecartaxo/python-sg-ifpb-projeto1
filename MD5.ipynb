{
 "cells": [
  {
   "cell_type": "markdown",
   "metadata": {},
   "source": [
    "# <center> <img src=\"figs/logo-ifpb.png\" alt=\"Logo UFScar\" width=\"220\" align=\"center\"/>  <br/> <center>Instituto Federal da Paraíba (IFPB)<br/><font size=\"4\"> CST em Sistemas para Internet</center></font>\n",
    "</p>\n",
    "\n",
    "<br/>\n",
    "<font size=\"4\"><center><b>Disciplina: Segurança de Dados</b></center></font>\n",
    "  \n",
    "<font size=\"3\"><center>Prof. Dr. Leandro Almeida</center></font>\n",
    "\n",
    "<br/>\n",
    "<br/>\n",
    "\n",
    "<center><i><b>\n",
    "Atenção: não são autorizadas cópias, divulgações ou qualquer tipo de uso deste material sem o consentimento prévio dos autores.\n",
    "</center></i></b>"
   ]
  },
  {
   "cell_type": "markdown",
   "metadata": {},
   "source": [
    "# <center>Desafio - Algoritmo MD5</center>"
   ]
  },
  {
   "cell_type": "markdown",
   "metadata": {},
   "source": [
    "<center><i><b>\n",
    "Antes de iniciar, leia atentamente a RFC1321 -  The MD5 Message-Digest Algorithm, e desenvolva o algoritmo de hash MD5 na função \"hashMD5Aluno\", no bloco disponibilizado abaixo. Após finalizar o desenvolvimento do seu código, você deve avaliar se a sua função está correta nos passos subsequentes.\n",
    "</center></i></b>"
   ]
  },
  {
   "cell_type": "code",
   "execution_count": null,
   "metadata": {},
   "outputs": [],
   "source": [
    "import math\n",
    "\n",
    "# Tabela de valores de rotacao\n",
    "valores_rotacao = [7, 12, 17, 22, 7, 12, 17, 22, 7, 12, 17, 22, 7, 12, 17, 22,\n",
    "             5,  9, 14, 20, 5,  9, 14, 20, 5,  9, 14, 20, 5,  9, 14, 20,\n",
    "             4, 11, 16, 23, 4, 11, 16, 23, 4, 11, 16, 23, 4, 11, 16, 23,\n",
    "             6, 10, 15, 21, 6, 10, 15, 21, 6, 10, 15, 21, 6, 10, 15, 21]\n",
    "\n",
    "# Tabela de constantes\n",
    "constantes = []\n",
    "for i in range(64):\n",
    "    valor = abs(math.sin(i + 1)) * 4294967296\n",
    "    valor_int = int(valor) & 0xFFFFFFFF\n",
    "    constantes.append(valor_int)\n",
    "\n",
    "# Passo 1: Acrescentar bits de preenchimento\n",
    "def preencher(msg):\n",
    "    tamanho_msg_bits = (8 * len(msg)) & 0xffffffffffffffff\n",
    "    msg.append(0x80)\n",
    "\n",
    "    while len(msg) % 64 != 56:\n",
    "        msg.append(0)\n",
    "\n",
    "    # Passo 2: Acrescentar comprimento\n",
    "    msg += tamanho_msg_bits.to_bytes(8, byteorder='little')\n",
    "\n",
    "    return msg\n",
    "\n",
    "# Passo 3: Inicializar MD Buffer\n",
    "buffer_inicial_MD = [0x67452301, 0xefcdab89, 0x98badcfe, 0x10325476]\n",
    "\n",
    "# Função de rotação à esquerda\n",
    "def rotacaoEsquerda(x, valor):\n",
    "    x &= 0xFFFFFFFF\n",
    "    return (x << valor | x >> (32 - valor)) & 0xFFFFFFFF\n",
    "\n",
    "# Passo 4: Processar mensagem\n",
    "def processarMensagem(msg):\n",
    "    buffer_temp = buffer_inicial_MD[:]\n",
    "\n",
    "    for deslocamento in range(0, len(msg), 64):\n",
    "        A, B, C, D = buffer_temp\n",
    "        bloco = msg[deslocamento: deslocamento + 64]\n",
    "\n",
    "        for i in range(64):\n",
    "            if i < 16:\n",
    "                func = lambda b, c, d: (b & c) | (~b & d)\n",
    "                index_func = lambda i: i\n",
    "            elif i < 32:\n",
    "                func = lambda b, c, d: (d & b) | (~d & c)\n",
    "                index_func = lambda i: (5 * i + 1) % 16\n",
    "            elif i < 48:\n",
    "                func = lambda b, c, d: b ^ c ^ d\n",
    "                index_func = lambda i: (3 * i + 5) % 16\n",
    "            else:\n",
    "                func = lambda b, c, d: c ^ (b | ~d)\n",
    "                index_func = lambda i: (7 * i) % 16\n",
    "\n",
    "            F = func(B, C, D)\n",
    "            G = index_func(i)\n",
    "            rotacionar = A + F + constantes[i] + int.from_bytes(bloco[4 * G: 4 * G + 4], byteorder='little')\n",
    "            novoB = (B + rotacaoEsquerda(rotacionar, valores_rotacao[i])) & 0xFFFFFFFF\n",
    "\n",
    "            A, B, C, D = D, novoB, B, C\n",
    "\n",
    "        for i, val in enumerate([A, B, C, D]):\n",
    "            buffer_temp[i] += val\n",
    "            buffer_temp[i] &= 0xFFFFFFFF\n",
    "\n",
    "    return sum(conteudo_buffer << (32 * i) for i, conteudo_buffer in enumerate(buffer_temp))\n",
    "\n",
    "# Funcao para converter o digest para um valor hexadecimal\n",
    "def MD_para_hexa(digest):\n",
    "    valorBruto = digest.to_bytes(16, byteorder='little')\n",
    "    return '{:032x}'.format(int.from_bytes(valorBruto, byteorder='big'))\n",
    "\n",
    "# Funcao principal que calcula o hash MD5 de uma mensagem\n",
    "def hashMD5Aluno(msg):\n",
    "    msg = bytearray(msg, 'ascii')\n",
    "    msg = preencher(msg)\n",
    "    msg_processada = processarMensagem(msg)\n",
    "    hash_mensagem = MD_para_hexa(msg_processada)\n",
    "    \n",
    "    return hash_mensagem"
   ]
  },
  {
   "cell_type": "markdown",
   "metadata": {},
   "source": [
    "## <center>Avaliando função hash MD5 do python com a função do aluno</center>"
   ]
  },
  {
   "cell_type": "code",
   "execution_count": null,
   "metadata": {},
   "outputs": [],
   "source": [
    "import hashlib\n",
    "\n",
    "print(\"Hash da string teste usando hashlib do python: \")\n",
    "print(hashlib.md5(\"teste\".encode('utf-8')).hexdigest())\n",
    "\n",
    "hashdoAluno = hashMD5Aluno('teste')\n",
    "\n",
    "print(\"Hash da string teste usando a função do aluno: \")\n",
    "print(hashdoAluno)"
   ]
  }
 ],
 "metadata": {
  "kernelspec": {
   "display_name": "Python 3",
   "language": "python",
   "name": "python3"
  },
  "language_info": {
   "codemirror_mode": {
    "name": "ipython",
    "version": 3
   },
   "file_extension": ".py",
   "mimetype": "text/x-python",
   "name": "python",
   "nbconvert_exporter": "python",
   "pygments_lexer": "ipython3",
   "version": "3.10.12"
  }
 },
 "nbformat": 4,
 "nbformat_minor": 2
}
