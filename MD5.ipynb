{
 "cells": [
  {
   "cell_type": "markdown",
   "metadata": {},
   "source": [
    "# <center> <img src=\"figs/logo-ifpb.png\" alt=\"Logo UFScar\" width=\"220\" align=\"center\"/>  <br/> <center>Instituto Federal da Paraíba (IFPB)<br/><font size=\"4\"> CST em Sistemas para Internet</center></font>\n",
    "</p>\n",
    "\n",
    "<br/>\n",
    "<font size=\"4\"><center><b>Disciplina: Segurança de Dados</b></center></font>\n",
    "  \n",
    "<font size=\"3\"><center>Prof. Dr. Leandro Almeida</center></font>\n",
    "\n",
    "<br/>\n",
    "<br/>\n",
    "\n",
    "<center><i><b>\n",
    "Atenção: não são autorizadas cópias, divulgações ou qualquer tipo de uso deste material sem o consentimento prévio dos autores.\n",
    "</center></i></b>"
   ]
  },
  {
   "cell_type": "markdown",
   "metadata": {},
   "source": [
    "# <center>Desafio - Algoritmo MD5</center>"
   ]
  },
  {
   "cell_type": "markdown",
   "metadata": {},
   "source": [
    "<center><i><b>\n",
    "Antes de iniciar, leia atentamente a RFC1321 -  The MD5 Message-Digest Algorithm, e desenvolva o algoritmo de hash MD5 na função \"hashMD5Aluno\", no bloco disponibilizado abaixo. Após finalizar o desenvolvimento do seu código, você deve avaliar se a sua função está correta nos passos subsequentes.\n",
    "</center></i></b>"
   ]
  },
  {
   "cell_type": "code",
   "execution_count": null,
   "metadata": {},
   "outputs": [],
   "source": [
    "# Funções auxiliares\n",
    "def left_rotate(x, c):\n",
    "    return (x << c) | (x >> (32 - c))\n",
    "\n",
    "def F(x, y, z):\n",
    "    return (x & y) | (~x & z)\n",
    "\n",
    "def G(x, y, z):\n",
    "    return (x & z) | (y & ~z)\n",
    "\n",
    "def H(x, y, z):\n",
    "    return x ^ y ^ z\n",
    "\n",
    "def I(x, y, z):\n",
    "    return y ^ (x | ~z)\n",
    "\n",
    "# Função para preencher a mensagem\n",
    "def padding_message(message):\n",
    "    message = bytearray(message, 'utf-8')\n",
    "    orig_len_in_bits = (8 * len(message)) & 0xffffffffffffffff\n",
    "    message.append(0x80)\n",
    "    while len(message) % 64 != 56:\n",
    "        message.append(0)\n",
    "    message += orig_len_in_bits.to_bytes(8, byteorder='little')\n",
    "    return message\n",
    "\n",
    "# Função para processar um bloco de 512 bits\n",
    "def process_block(block, A, B, C, D):\n",
    "    S = [7, 12, 17, 22] * 4 + [5, 9, 14, 20] * 4 + [4, 11, 16, 23] * 4 + [6, 10, 15, 21] * 4\n",
    "    K = [\n",
    "        0xd76aa478, 0xe8c7b756, 0x242070db, 0xc1bdceee,\n",
    "        0xf57c0faf, 0x4787c62a, 0xa8304613, 0xfd469501,\n",
    "        0x698098d8, 0x8b44f7af, 0xffff5bb1, 0x895cd7be,\n",
    "        0x6b901122, 0xfd987193, 0xa679438e, 0x49b40821,\n",
    "        0xf61e2562, 0xc040b340, 0x265e5a51, 0xe9b6c7aa,\n",
    "        0xd62f105d, 0x02441453, 0xd8a1e681, 0xe7d3fbc8,\n",
    "        0x21e1cde6, 0xc33707d6, 0xf4d50d87, 0x455a14ed,\n",
    "        0xa9e3e905, 0xfcefa3f8, 0x676f02d9, 0x8d2a4c8a,\n",
    "        0xfffa3942, 0x8771f681, 0x6d9d6122, 0xfde5380c,\n",
    "        0xa4beea44, 0x4bdecfa9, 0xf6bb4b60, 0xbebfbc70,\n",
    "        0x289b7ec6, 0xeaa127fa, 0xd4ef3085, 0x04881d05,\n",
    "        0xd9d4d039, 0xe6db99e5, 0x1fa27cf8, 0xc4ac5665,\n",
    "        0xf4292244, 0x432aff97, 0xab9423a7, 0xfc93a039,\n",
    "        0x655b59c3, 0x8f0ccc92, 0xffeff47d, 0x85845dd1,\n",
    "        0x6fa87e4f, 0xfe2ce6e0, 0xa3014314, 0x4e0811a1,\n",
    "        0xf7537e82, 0xbd3af235, 0x2ad7d2bb, 0xeb86d391\n",
    "    ]\n",
    "\n",
    "    a, b, c, d = A, B, C, D\n",
    "    for i in range(64):\n",
    "        if 0 <= i <= 15:\n",
    "            f = F(b, c, d)\n",
    "            g = i\n",
    "        elif 16 <= i <= 31:\n",
    "            f = G(b, c, d)\n",
    "            g = (5 * i + 1) % 16\n",
    "        elif 32 <= i <= 47:\n",
    "            f = H(b, c, d)\n",
    "            g = (3 * i + 5) % 16\n",
    "        elif 48 <= i <= 63:\n",
    "            f = I(b, c, d)\n",
    "            g = (7 * i) % 16\n",
    "\n",
    "        f = (f + a + K[i] + int.from_bytes(block[4*g:4*g+4], byteorder='little')) & 0xffffffff\n",
    "        a, d, c, b = d, (b + left_rotate(f, S[i])) & 0xffffffff, b, c\n",
    "\n",
    "    A = (A + a) & 0xffffffff\n",
    "    B = (B + b) & 0xffffffff\n",
    "    C = (C + c) & 0xffffffff\n",
    "    D = (D + d) & 0xffffffff\n",
    "\n",
    "    return A, B, C, D\n",
    "\n",
    "# Função principal que implementa o algoritmo MD5\n",
    "def hashMD5Aluno(string):\n",
    "    A = 0x67452301\n",
    "    B = 0xefcdab89\n",
    "    C = 0x98badcfe\n",
    "    D = 0x10325476\n",
    "\n",
    "    message = padding_message(string)\n",
    "\n",
    "    for i in range(0, len(message), 64):\n",
    "        A, B, C, D = process_block(message[i:i+64], A, B, C, D)\n",
    "\n",
    "    hash_parts = [A, B, C, D]\n",
    "    hashString = ''.join(['{:02x}'.format(part) for part in hash_parts])\n",
    "\n",
    "    return hashString\n",
    "\n",
    "hashdoAluno = hashMD5Aluno('teste')\n",
    "print(\"Hash da string 'teste' usando a função hashMD5Aluno: \")\n",
    "print(hashdoAluno)\n",
    " "
   ]
  },
  {
   "cell_type": "markdown",
   "metadata": {},
   "source": [
    "## <center>Avaliando função hash MD5 do python com a função do aluno</center>"
   ]
  },
  {
   "cell_type": "code",
   "execution_count": null,
   "metadata": {},
   "outputs": [],
   "source": [
    "import hashlib\n",
    "\n",
    "print(\"Hash da string teste usando hashlib do python: \")\n",
    "print(hashlib.md5(\"teste\".encode('utf-8')).hexdigest())\n",
    "\n",
    "\n",
    "hashdoAluno = hashMD5Aluno('teste')\n",
    "\n",
    "print(\"Hash da string teste usando a função do aluno: \")\n",
    "print(hashdoAluno)"
   ]
  }
 ],
 "metadata": {
  "kernelspec": {
   "display_name": "Python 3",
   "language": "python",
   "name": "python3"
  },
  "language_info": {
   "codemirror_mode": {
    "name": "ipython",
    "version": 3
   },
   "file_extension": ".py",
   "mimetype": "text/x-python",
   "name": "python",
   "nbconvert_exporter": "python",
   "pygments_lexer": "ipython3",
   "version": "3.10.12"
  }
 },
 "nbformat": 4,
 "nbformat_minor": 2
}
